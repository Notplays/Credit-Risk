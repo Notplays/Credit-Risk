{
 "cells": [
  {
   "cell_type": "markdown",
   "id": "70393aed",
   "metadata": {},
   "source": [
    "# Data"
   ]
  },
  {
   "cell_type": "markdown",
   "id": "daeb87cb",
   "metadata": {},
   "source": [
    "| Feature Name               | Description                           |\n",
    "|----------------------------|-------------------------------------|\n",
    "| person_age                 | Age                                 |\n",
    "| person_income              | Annual Income                       |\n",
    "| person_home_ownership      | Home ownership                      |\n",
    "| person_emp_length          | Employment length (in years)        |\n",
    "| loan_intent                | Loan intent                        |\n",
    "| loan_grade                 | Loan grade                        |\n",
    "| loan_amnt                 | Loan amount                       |\n",
    "| loan_int_rate              | Interest rate                     |\n",
    "| loan_status                | Loan status (0 is non default, 1 is default) |\n",
    "| loan_percent_income        | Percent income                    |\n",
    "| cb_person_default_on_file  | Historical default                 |\n",
    "| cb_preson_cred_hist_length | Credit history length              |\n"
   ]
  },
  {
   "cell_type": "markdown",
   "id": "91494df0",
   "metadata": {},
   "source": [
    "# Imports\n"
   ]
  },
  {
   "cell_type": "code",
   "execution_count": null,
   "id": "ed1369ff",
   "metadata": {},
   "outputs": [],
   "source": [
    "!pip install xgboost "
   ]
  },
  {
   "cell_type": "code",
   "execution_count": 76,
   "id": "3ab340b8",
   "metadata": {},
   "outputs": [],
   "source": [
    "import pandas as pd\n",
    "import numpy as np\n",
    "from sklearn.metrics import make_scorer, mean_absolute_percentage_error\n",
    "from sklearn.model_selection import train_test_split, cross_validate\n",
    "from sklearn.ensemble import RandomForestRegressor \n",
    "import lightgbm as lgb\n",
    "import xgboost as xgb\n",
    "from sklearn.metrics import mean_absolute_error"
   ]
  },
  {
   "cell_type": "code",
   "execution_count": 21,
   "id": "d1b225d6",
   "metadata": {},
   "outputs": [],
   "source": [
    "original_data=pd.read_csv('credit_risk_dataset.csv')"
   ]
  },
  {
   "cell_type": "code",
   "execution_count": 22,
   "id": "1f0b797b",
   "metadata": {},
   "outputs": [
    {
     "name": "stdout",
     "output_type": "stream",
     "text": [
      "(32581, 12)\n"
     ]
    },
    {
     "data": {
      "text/plain": [
       "1303.24"
      ]
     },
     "execution_count": 22,
     "metadata": {},
     "output_type": "execute_result"
    }
   ],
   "source": [
    "print(original_data.shape)\n",
    "32581*0.04"
   ]
  },
  {
   "cell_type": "markdown",
   "id": "7a1c1f7a",
   "metadata": {},
   "source": [
    "# Transformations"
   ]
  },
  {
   "cell_type": "markdown",
   "id": "5b95a796",
   "metadata": {},
   "source": [
    "## removing outliers"
   ]
  },
  {
   "cell_type": "code",
   "execution_count": 23,
   "id": "d91ca574",
   "metadata": {},
   "outputs": [],
   "source": [
    "mask = (\n",
    "    (original_data['person_age'] > 85) |\n",
    "    (original_data['person_income'] > 200000) |\n",
    "    (original_data['person_emp_length'] > 18) |\n",
    "    (original_data['loan_amnt'] > 28000)\n",
    ")"
   ]
  },
  {
   "cell_type": "code",
   "execution_count": 24,
   "id": "ca8fb19c",
   "metadata": {},
   "outputs": [
    {
     "name": "stdout",
     "output_type": "stream",
     "text": [
      "Number of rows to be removed: 941\n",
      "Original shape: (32581, 12)\n",
      "Filtered shape: (31640, 12)\n"
     ]
    }
   ],
   "source": [
    "print(\"Number of rows to be removed:\", mask.sum())\n",
    "print(\"Original shape:\", original_data.shape)\n",
    "print(\"Filtered shape:\", original_data[~mask].shape)\n",
    "data=original_data[~mask]"
   ]
  },
  {
   "cell_type": "markdown",
   "id": "a835f7c7",
   "metadata": {},
   "source": [
    "## normalizing "
   ]
  },
  {
   "cell_type": "code",
   "execution_count": 25,
   "id": "876abedc",
   "metadata": {},
   "outputs": [
    {
     "name": "stderr",
     "output_type": "stream",
     "text": [
      "C:\\Users\\david\\AppData\\Local\\Temp\\ipykernel_22152\\2878494024.py:1: SettingWithCopyWarning: \n",
      "A value is trying to be set on a copy of a slice from a DataFrame.\n",
      "Try using .loc[row_indexer,col_indexer] = value instead\n",
      "\n",
      "See the caveats in the documentation: https://pandas.pydata.org/pandas-docs/stable/user_guide/indexing.html#returning-a-view-versus-a-copy\n",
      "  data['loan_amnt']=np.log(data['loan_amnt'])\n",
      "C:\\Users\\david\\AppData\\Local\\Temp\\ipykernel_22152\\2878494024.py:2: SettingWithCopyWarning: \n",
      "A value is trying to be set on a copy of a slice from a DataFrame.\n",
      "Try using .loc[row_indexer,col_indexer] = value instead\n",
      "\n",
      "See the caveats in the documentation: https://pandas.pydata.org/pandas-docs/stable/user_guide/indexing.html#returning-a-view-versus-a-copy\n",
      "  data['person_income']=np.log(data['person_income'])\n"
     ]
    }
   ],
   "source": [
    "data['loan_amnt']=np.log(data['loan_amnt'])\n",
    "data['person_income']=np.log(data['person_income'])"
   ]
  },
  {
   "cell_type": "markdown",
   "id": "7d1a3d3e",
   "metadata": {},
   "source": [
    "## one hot encoding"
   ]
  },
  {
   "cell_type": "code",
   "execution_count": 26,
   "id": "f48dffe7",
   "metadata": {},
   "outputs": [],
   "source": [
    "# Create one-hot encoded columns for person_home_ownership\n",
    "home_ownership_encoded = pd.get_dummies(data['person_home_ownership'], prefix='home_ownership',  dtype=int)\n",
    "\n",
    "# Create one-hot encoded columns for loan_intent  \n",
    "loan_intent_encoded = pd.get_dummies(data['loan_intent'], prefix='loan_intent',  dtype=int)\n",
    "\n",
    "# Concatenate the encoded columns with the original data\n",
    "data_encoded = pd.concat([data, home_ownership_encoded, loan_intent_encoded], axis=1)\n",
    "\n",
    "# Drop the original categorical columns\n",
    "data_encoded = data_encoded.drop(['person_home_ownership','home_ownership_OTHER', 'loan_intent', 'loan_intent_HOMEIMPROVEMENT'], axis=1)\n",
    "\n",
    "data = data_encoded\n"
   ]
  },
  {
   "cell_type": "markdown",
   "id": "cf84ae90",
   "metadata": {},
   "source": [
    "## ordinal and binary transformation"
   ]
  },
  {
   "cell_type": "code",
   "execution_count": null,
   "id": "06c232a6",
   "metadata": {},
   "outputs": [],
   "source": [
    "# Binary transformation for cb_person_default_on_file\n",
    "data['cb_person_default_on_file'] = (data['cb_person_default_on_file'] == 'Y').astype(int)\n",
    "\n",
    "# Ordinal transformation for loan_grade (A=1, B=2, C=3, D=4, E=5, F=6, G=7)\n",
    "grade_mapping = {'A': 1, 'B': 2, 'C': 3, 'D': 4, 'E': 5, 'F': 6, 'G': 7}\n",
    "data['loan_grade'] = data['loan_grade'].map(grade_mapping)\n"
   ]
  },
  {
   "cell_type": "markdown",
   "id": "460f61c8",
   "metadata": {},
   "source": [
    "# Missing values"
   ]
  },
  {
   "cell_type": "code",
   "execution_count": 34,
   "id": "bdf46ad1",
   "metadata": {},
   "outputs": [
    {
     "name": "stdout",
     "output_type": "stream",
     "text": [
      "Dataset without missing values shape: (27794, 18)\n",
      "Dataset with missing values shape: (3846, 18)\n"
     ]
    }
   ],
   "source": [
    "# Create a dataset without missing values(train dataset)\n",
    "data_no_missing = data.dropna()\n",
    "\n",
    "# Create a dataset with records that contain missing values(evaluate dataset)\n",
    "data_with_missing = data[data.isnull().any(axis=1)]\n",
    "\n",
    "# Print the shapes of both datasets\n",
    "print(\"Dataset without missing values shape:\", data_no_missing.shape)\n",
    "print(\"Dataset with missing values shape:\", data_with_missing.shape)"
   ]
  },
  {
   "cell_type": "code",
   "execution_count": 36,
   "id": "ea015a86",
   "metadata": {},
   "outputs": [],
   "source": [
    "targets = data_no_missing[['person_emp_length', 'loan_int_rate']]"
   ]
  },
  {
   "cell_type": "code",
   "execution_count": 38,
   "id": "7df16901",
   "metadata": {},
   "outputs": [],
   "source": [
    "scoring_function = make_scorer(mean_absolute_percentage_error, greater_is_better=False)"
   ]
  },
  {
   "cell_type": "markdown",
   "id": "c6cb055e",
   "metadata": {},
   "source": [
    "## Person_emp_lenght"
   ]
  },
  {
   "cell_type": "code",
   "execution_count": 99,
   "id": "46efda5c",
   "metadata": {},
   "outputs": [],
   "source": [
    "X = data_no_missing.drop('person_emp_length', axis=1)\n",
    "X_train, X_test, y_train, y_test = train_test_split(X, data_no_missing['person_emp_length'], test_size=0.2, random_state=22)"
   ]
  },
  {
   "cell_type": "markdown",
   "id": "f30fea61",
   "metadata": {},
   "source": [
    "random forest"
   ]
  },
  {
   "cell_type": "code",
   "execution_count": 101,
   "id": "558561ab",
   "metadata": {},
   "outputs": [
    {
     "name": "stdout",
     "output_type": "stream",
     "text": [
      "Cross-validation scores: [2.85826353 2.88019276 2.82612494 2.84445746 2.85346545]\n"
     ]
    }
   ],
   "source": [
    "model = RandomForestRegressor(random_state=42, n_estimators=300, max_depth=5)\n",
    "scores = cross_validate(model, X_train, y_train, cv=5, scoring='neg_mean_absolute_error', n_jobs=-1, return_train_score=True)\n",
    "\n",
    "print(\"Cross-validation scores:\", -scores['test_score'])\n"
   ]
  },
  {
   "cell_type": "markdown",
   "id": "f80b4ad2",
   "metadata": {},
   "source": [
    "lgbmr "
   ]
  },
  {
   "cell_type": "code",
   "execution_count": 102,
   "id": "1b485238",
   "metadata": {},
   "outputs": [
    {
     "name": "stdout",
     "output_type": "stream",
     "text": [
      "Cross-validation MAEs: [2.83002769 2.85933514 2.79789742 2.81143921 2.7982004 ]\n"
     ]
    }
   ],
   "source": [
    "model = lgb.LGBMRegressor(\n",
    "    n_estimators=300,\n",
    "    max_depth=5,\n",
    "    random_state=42\n",
    ")\n",
    "\n",
    "# Cross-validation\n",
    "cv_results = cross_validate(\n",
    "    model,\n",
    "    X_train,\n",
    "    y_train,\n",
    "    cv=5,\n",
    "    scoring='neg_mean_absolute_error',\n",
    "    return_train_score=True,\n",
    "    n_jobs=-1\n",
    ")\n",
    "\n",
    "mae_scores = -cv_results['test_score']\n",
    "print(\"Cross-validation MAEs:\", mae_scores)"
   ]
  },
  {
   "cell_type": "markdown",
   "id": "0a1b3cee",
   "metadata": {},
   "source": [
    "XGBR"
   ]
  },
  {
   "cell_type": "code",
   "execution_count": null,
   "id": "c4bad771",
   "metadata": {},
   "outputs": [
    {
     "name": "stdout",
     "output_type": "stream",
     "text": [
      "Cross-validation MAEs: [2.83263668 2.85904282 2.7876798  2.81434441 2.81092383]\n",
      "Average MAE: 2.8209255090973095\n"
     ]
    }
   ],
   "source": [
    "model = xgb.XGBRegressor(\n",
    "    n_estimators=300,\n",
    "    max_depth=5,\n",
    "    learning_rate=0.1,\n",
    "    random_state=42,\n",
    "    verbosity=0\n",
    ")\n",
    "\n",
    "# Cross-validation\n",
    "cv_results = cross_validate(\n",
    "    model,\n",
    "    X_train,\n",
    "    y_train,\n",
    "    cv=5,\n",
    "    scoring='neg_mean_absolute_error',\n",
    "    n_jobs=-1,\n",
    "    return_train_score=True\n",
    ")\n",
    "\n",
    "# Convert to positive MAE\n",
    "mae_scores = -cv_results['test_score']\n",
    "print(\"Cross-validation MAEs:\", mae_scores)\n"
   ]
  },
  {
   "cell_type": "code",
   "execution_count": 96,
   "id": "8941a934",
   "metadata": {},
   "outputs": [
    {
     "name": "stdout",
     "output_type": "stream",
     "text": [
      "4.631039864733043\n"
     ]
    },
    {
     "data": {
      "text/plain": [
       "61.323913043478264"
      ]
     },
     "execution_count": 96,
     "metadata": {},
     "output_type": "execute_result"
    }
   ],
   "source": [
    "print(data['person_emp_length'].mean())\n",
    "2.8209/4.6*100"
   ]
  },
  {
   "cell_type": "markdown",
   "id": "a51a40a0",
   "metadata": {},
   "source": [
    "## loan_int_rate"
   ]
  },
  {
   "cell_type": "code",
   "execution_count": 67,
   "id": "1bd2a73a",
   "metadata": {},
   "outputs": [],
   "source": [
    "X = data_no_missing.drop('loan_int_rate', axis=1)\n",
    "X_train, X_test, y_train, y_test = train_test_split(X, data_no_missing['loan_int_rate'], test_size=0.2, random_state=22)"
   ]
  },
  {
   "cell_type": "markdown",
   "id": "cc170c15",
   "metadata": {},
   "source": [
    "random forest"
   ]
  },
  {
   "cell_type": "code",
   "execution_count": 68,
   "id": "ce6e2a39",
   "metadata": {},
   "outputs": [
    {
     "name": "stdout",
     "output_type": "stream",
     "text": [
      "Cross-validation scores: [0.78918031 0.78084566 0.79441703 0.77463867 0.78113804]\n"
     ]
    }
   ],
   "source": [
    "model = RandomForestRegressor(random_state=42, n_estimators=300, max_depth=5)\n",
    "scores = cross_validate(model, X_train, y_train, cv=5, scoring='neg_mean_absolute_error', n_jobs=-1, return_train_score=True)\n",
    "\n",
    "print(\"Cross-validation scores:\", -scores['test_score'])"
   ]
  },
  {
   "cell_type": "markdown",
   "id": "1762ae4f",
   "metadata": {},
   "source": [
    "lgmr"
   ]
  },
  {
   "cell_type": "code",
   "execution_count": null,
   "id": "cc113c81",
   "metadata": {},
   "outputs": [
    {
     "name": "stdout",
     "output_type": "stream",
     "text": [
      "Cross-validation MAEs: [0.79432965 0.78461909 0.79363067 0.77717533 0.78502012]\n"
     ]
    }
   ],
   "source": [
    "model = lgb.LGBMRegressor(\n",
    "    n_estimators=300,\n",
    "    max_depth=5,\n",
    "    random_state=22\n",
    ")\n",
    "\n",
    "# Cross-validation\n",
    "cv_results = cross_validate(\n",
    "    model,\n",
    "    X_train,\n",
    "    y_train,\n",
    "    cv=5,\n",
    "    scoring='neg_mean_absolute_error',\n",
    "    return_train_score=True,\n",
    "    n_jobs=-1\n",
    ")\n",
    "\n",
    "mae_scores = -cv_results['test_score']\n",
    "print(\"Cross-validation MAEs:\", mae_scores)"
   ]
  },
  {
   "cell_type": "markdown",
   "id": "593a5ba4",
   "metadata": {},
   "source": [
    "XGBR"
   ]
  },
  {
   "cell_type": "code",
   "execution_count": null,
   "id": "8afdda13",
   "metadata": {},
   "outputs": [
    {
     "name": "stdout",
     "output_type": "stream",
     "text": [
      "Cross-validation MAEs: [0.79073387 0.78179577 0.79554029 0.78172074 0.78182814]\n"
     ]
    }
   ],
   "source": [
    "model = xgb.XGBRegressor(\n",
    "    n_estimators=300,\n",
    "    max_depth=5,\n",
    "    learning_rate=0.01,\n",
    "    random_state=22,\n",
    "    verbosity=0\n",
    ")\n",
    "\n",
    "# Cross-validation\n",
    "cv_results = cross_validate(\n",
    "    model,\n",
    "    X_train,\n",
    "    y_train,\n",
    "    cv=5,\n",
    "    scoring='neg_mean_absolute_error',\n",
    "    n_jobs=-1,\n",
    "    return_train_score=True\n",
    ")\n",
    "\n",
    "# Convert to positive MAE\n",
    "mae_scores = -cv_results['test_score']\n",
    "print(\"Cross-validation MAEs:\", mae_scores)\n",
    "print(\"Training scores:\", cv_results['train_score'])"
   ]
  },
  {
   "cell_type": "code",
   "execution_count": 77,
   "id": "11daf14d",
   "metadata": {},
   "outputs": [
    {
     "name": "stdout",
     "output_type": "stream",
     "text": [
      "Test MAE: 0.7889745032236203\n"
     ]
    }
   ],
   "source": [
    "# Fit on full training set\n",
    "model.fit(X_train, y_train)\n",
    "\n",
    "# Predict and evaluate on test set\n",
    "y_pred = model.predict(X_test)\n",
    "test_mae = mean_absolute_error(y_test, y_pred)\n",
    "print(\"Test MAE:\", test_mae)"
   ]
  },
  {
   "cell_type": "code",
   "execution_count": 95,
   "id": "8117523f",
   "metadata": {},
   "outputs": [
    {
     "name": "stdout",
     "output_type": "stream",
     "text": [
      "10.981918358787963\n"
     ]
    },
    {
     "data": {
      "text/plain": [
       "7.097361237488626"
      ]
     },
     "execution_count": 95,
     "metadata": {},
     "output_type": "execute_result"
    }
   ],
   "source": [
    "print(data['loan_int_rate'].mean())\n",
    "0.78/10.990000 *100"
   ]
  },
  {
   "cell_type": "markdown",
   "id": "8a6e7f96",
   "metadata": {},
   "source": [
    "Our model’s average error is about 7% of the typical value"
   ]
  },
  {
   "cell_type": "markdown",
   "id": "ef7fb8db",
   "metadata": {},
   "source": [
    "# Imputing Missing Values"
   ]
  },
  {
   "cell_type": "code",
   "execution_count": null,
   "id": "e134e702",
   "metadata": {},
   "outputs": [],
   "source": [
    "missing_loan_int_rate = data[data['loan_int_rate'].isnull()]\n",
    "\n",
    "X_missing = missing_loan_int_rate.drop('loan_int_rate', axis=1)\n",
    "predicted_loan_int_rate = model.predict(X_missing)\n",
    "    \n",
    "\n",
    "data_imputed = data.copy()   \n",
    "# Fill missing values with predictions\n",
    "data_imputed.loc[data['loan_int_rate'].isnull(), 'loan_int_rate'] = predicted_loan_int_rate\n"
   ]
  },
  {
   "cell_type": "code",
   "execution_count": null,
   "id": "6eac7a9a",
   "metadata": {},
   "outputs": [],
   "source": []
  }
 ],
 "metadata": {
  "kernelspec": {
   "display_name": "base",
   "language": "python",
   "name": "python3"
  },
  "language_info": {
   "codemirror_mode": {
    "name": "ipython",
    "version": 3
   },
   "file_extension": ".py",
   "mimetype": "text/x-python",
   "name": "python",
   "nbconvert_exporter": "python",
   "pygments_lexer": "ipython3",
   "version": "3.12.4"
  }
 },
 "nbformat": 4,
 "nbformat_minor": 5
}
