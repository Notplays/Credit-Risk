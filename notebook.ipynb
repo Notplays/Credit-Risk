{
 "cells": [
  {
   "cell_type": "markdown",
   "id": "70393aed",
   "metadata": {},
   "source": [
    "# Data"
   ]
  },
  {
   "cell_type": "markdown",
   "id": "daeb87cb",
   "metadata": {},
   "source": [
    "| Feature Name               | Description                           |\n",
    "|----------------------------|-------------------------------------|\n",
    "| person_age                 | Age                                 |\n",
    "| person_income              | Annual Income                       |\n",
    "| person_home_ownership      | Home ownership                      |\n",
    "| person_emp_length          | Employment length (in years)        |\n",
    "| loan_intent                | Loan intent                        |\n",
    "| loan_grade                 | Loan grade                        |\n",
    "| loan_amnt                 | Loan amount                       |\n",
    "| loan_int_rate              | Interest rate                     |\n",
    "| loan_status                | Loan status (0 is non default, 1 is default) |\n",
    "| loan_percent_income        | Percent income                    |\n",
    "| cb_person_default_on_file  | Historical default                 |\n",
    "| cb_preson_cred_hist_length | Credit history length              |\n"
   ]
  },
  {
   "cell_type": "markdown",
   "id": "91494df0",
   "metadata": {},
   "source": [
    "# Imports\n"
   ]
  },
  {
   "cell_type": "code",
   "execution_count": 117,
   "id": "3ab340b8",
   "metadata": {},
   "outputs": [],
   "source": [
    "import pandas as pd"
   ]
  },
  {
   "cell_type": "code",
   "execution_count": 118,
   "id": "d1b225d6",
   "metadata": {},
   "outputs": [],
   "source": [
    "original_data=pd.read_csv('credit_risk_dataset.csv')"
   ]
  },
  {
   "cell_type": "code",
   "execution_count": 102,
   "id": "1f0b797b",
   "metadata": {},
   "outputs": [
    {
     "name": "stdout",
     "output_type": "stream",
     "text": [
      "(32581, 12)\n"
     ]
    },
    {
     "data": {
      "text/plain": [
       "1303.24"
      ]
     },
     "execution_count": 102,
     "metadata": {},
     "output_type": "execute_result"
    }
   ],
   "source": [
    "print(original_data.shape)\n",
    "32581*0.04"
   ]
  },
  {
   "cell_type": "markdown",
   "id": "7a1c1f7a",
   "metadata": {},
   "source": [
    "# Transformations"
   ]
  },
  {
   "cell_type": "code",
   "execution_count": null,
   "id": "d91ca574",
   "metadata": {},
   "outputs": [],
   "source": [
    "mask = (\n",
    "    (original_data['person_age'] > 85) |\n",
    "    (original_data['person_income'] > 1000000) |\n",
    "    (original_data['person_emp_length'] > 50)\n",
    ")"
   ]
  },
  {
   "cell_type": "code",
   "execution_count": 122,
   "id": "ca8fb19c",
   "metadata": {},
   "outputs": [
    {
     "name": "stdout",
     "output_type": "stream",
     "text": [
      "Number of rows to be removed: 16\n",
      "Original shape: (32581, 12)\n",
      "Filtered shape: (32565, 12)\n"
     ]
    }
   ],
   "source": [
    "print(\"Number of rows to be removed:\", mask.sum())\n",
    "print(\"Original shape:\", original_data.shape)\n",
    "print(\"Filtered shape:\", original_data[~mask].shape)\n",
    "data=original_data[~mask]"
   ]
  },
  {
   "cell_type": "code",
   "execution_count": null,
   "id": "ea8018a4",
   "metadata": {},
   "outputs": [
    {
     "name": "stdout",
     "output_type": "stream",
     "text": [
      "(32565, 12)\n"
     ]
    },
    {
     "data": {
      "text/plain": [
       "16"
      ]
     },
     "execution_count": 121,
     "metadata": {},
     "output_type": "execute_result"
    }
   ],
   "source": [
    "print(data.shape)\n",
    "32581- 32565"
   ]
  }
 ],
 "metadata": {
  "kernelspec": {
   "display_name": "base",
   "language": "python",
   "name": "python3"
  },
  "language_info": {
   "codemirror_mode": {
    "name": "ipython",
    "version": 3
   },
   "file_extension": ".py",
   "mimetype": "text/x-python",
   "name": "python",
   "nbconvert_exporter": "python",
   "pygments_lexer": "ipython3",
   "version": "3.12.4"
  }
 },
 "nbformat": 4,
 "nbformat_minor": 5
}
